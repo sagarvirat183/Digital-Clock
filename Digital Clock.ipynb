{
 "cells": [
  {
   "cell_type": "code",
   "execution_count": 1,
   "metadata": {},
   "outputs": [
    {
     "name": "stdout",
     "output_type": "stream",
     "text": [
      "00 35 40\n",
      "00 35 40\n",
      "00 35 40\n",
      "00 35 41\n",
      "00 35 41\n",
      "00 35 41\n",
      "00 35 41\n",
      "00 35 41\n",
      "00 35 42\n",
      "00 35 42\n",
      "00 35 42\n",
      "00 35 42\n",
      "00 35 42\n",
      "00 35 43\n",
      "00 35 43\n",
      "00 35 43\n",
      "00 35 43\n",
      "00 35 43\n",
      "00 35 44\n",
      "00 35 44\n",
      "00 35 44\n",
      "00 35 44\n",
      "00 35 44\n"
     ]
    }
   ],
   "source": [
    "from tkinter import*\n",
    "import time\n",
    "clk = Tk()\n",
    "\n",
    "clk.title(\"Clock\")\n",
    "clk.geometry(\"1350x700+0+0\")\n",
    "clk.config(bg=\"#0C1E28\")\n",
    "\n",
    "def clock():\n",
    "    hr=str(time.strftime(\"%H\"))\n",
    "    mn=str(time.strftime(\"%M\"))\n",
    "    sc=str(time.strftime(\"%S\"))\n",
    "    print(hr,mn,sc)\n",
    "    if int(hr)>12 and int(mn)>0:\n",
    "        lb.dn.config(text=\"PM\")\n",
    "    if int(hr)>12:\n",
    "        hr=str(int(int(hr)-12))\n",
    "    \n",
    "    \n",
    "    \n",
    "    lb_hr.config(text = hr)\n",
    "    lb_mn.config(text=mn)\n",
    "    lb_sc.config(text=sc)\n",
    "    lb_hr.after(200,clock)\n",
    "  \n",
    "\n",
    "\n",
    "\n",
    "\n",
    "lb_hr=Label(clk,text=\"12\",font=(\"Times 20 bold\",75,'bold'),bg=\"#0875B7\",fg=\"white\")\n",
    "lb_hr.place(x=350,y=200,width=150,height=250)\n",
    "\n",
    "lb_hr_txt = Label(clk,text=\"Hour\",font=(\"Times 20 bold\",20,\"bold\"),bg=\"#0875B7\",fg=\"white\")\n",
    "lb_hr_txt.place(x=350,y=360,width=150,height=50)\n",
    "\n",
    "lb_mn=Label(clk,text=\"12\",font=(\"Times 20 bold\",75,'bold'),bg=\"#008EA4\",fg=\"white\")\n",
    "lb_mn.place(x=520,y=200,width=150,height=250)\n",
    "\n",
    "lb_mn_txt = Label(clk,text=\"MINUTE\",font=(\"Times 20 bold\",20,\"bold\"),bg=\"#008EA4\",fg=\"white\")\n",
    "lb_mn_txt.place(x=520,y=360,width=150,height=50)\n",
    "\n",
    "lb_sc=Label(clk,text=\"12\",font=(\"Times 20 bold\",75,'bold'),bg=\"#06B4B8\",fg=\"white\")\n",
    "lb_sc.place(x=690,y=200,width=150,height=250)\n",
    "\n",
    "lb_sc_txt = Label(clk,text=\"SECOND\",font=(\"Times 20 bold\",20,\"bold\"),bg=\"#06B4B8\",fg=\"white\")\n",
    "lb_sc_txt.place(x=690,y=360,width=150,height=50)\n",
    "\n",
    "lb_dn=Label(clk,text=\"AM\",font=(\"Times 20 bold\",70,'bold'),bg=\"#9F0646\",fg=\"white\")\n",
    "lb_dn.place(x=860,y=200,width=150,height=250)\n",
    "\n",
    "lb_dn_txt = Label(clk,text=\"NOON\",font=(\"Times 20 bold\",20,\"bold\"),bg=\"#9F0646\",fg=\"white\")\n",
    "lb_dn_txt.place(x=860,y=360,width=150,height=50)\n",
    "\n",
    "clock()\n",
    "\n",
    "clk.mainloop()"
   ]
  },
  {
   "cell_type": "code",
   "execution_count": null,
   "metadata": {},
   "outputs": [],
   "source": []
  }
 ],
 "metadata": {
  "kernelspec": {
   "display_name": "Python 3",
   "language": "python",
   "name": "python3"
  },
  "language_info": {
   "codemirror_mode": {
    "name": "ipython",
    "version": 3
   },
   "file_extension": ".py",
   "mimetype": "text/x-python",
   "name": "python",
   "nbconvert_exporter": "python",
   "pygments_lexer": "ipython3",
   "version": "3.8.5"
  }
 },
 "nbformat": 4,
 "nbformat_minor": 4
}
